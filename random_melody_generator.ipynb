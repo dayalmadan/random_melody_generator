{
 "cells": [
  {
   "cell_type": "code",
   "execution_count": 1,
   "metadata": {},
   "outputs": [
    {
     "name": "stdout",
     "output_type": "stream",
     "text": [
      "pygame 2.1.2 (SDL 2.0.18, Python 3.7.3)\n",
      "Hello from the pygame community. https://www.pygame.org/contribute.html\n"
     ]
    }
   ],
   "source": [
    "from dataclasses import dataclass\n",
    "from io import BytesIO, StringIO\n",
    "from time import sleep\n",
    "from typing import Dict, List, Tuple, Union\n",
    "from random import choices, randint, uniform\n",
    "\n",
    "import pygame\n",
    "import pygame.mixer\n",
    "\n",
    "from midiutil import MIDIFile"
   ]
  },
  {
   "cell_type": "code",
   "execution_count": 17,
   "metadata": {},
   "outputs": [],
   "source": [
    "NOTE_LENGTH = [1 / 32, 1 / 16, 1 / 8, 1 / 4]  # w.r.t. bar\n",
    "NOTE_PROB = [0.0, 0.8, 0.2, 0.0]\n",
    "\n",
    "SILENCE_PROB = 0.25\n",
    "\n",
    "MELODY_PATTERNS = [\"AABA\", \"ABAB\", \"ABAC\", \"ABCB\", \"AAAB\"]\n",
    "\n",
    "BEAT_PER_BAR = 4\n",
    "VOLUME = 100"
   ]
  },
  {
   "cell_type": "code",
   "execution_count": 4,
   "metadata": {},
   "outputs": [],
   "source": [
    "@dataclass\n",
    "class MidiData:\n",
    "    note: int\n",
    "    start_time: float\n",
    "    duration: float\n",
    "\n",
    "major_scale = [60, 62, 64, 65, 67, 69, 71, 72] # MIDI note number\n",
    "minor_scale = [60, 62, 63, 65, 67, 68, 70, 72] # MIDI note number\n",
    "\n",
    "def generate_midi(scale: str='C', major: bool=True, bpm: int=126) -> BytesIO:\n",
    "    melody_pattern = MELODY_PATTERNS[randint(0, len(MELODY_PATTERNS) - 1)]\n",
    "    \n",
    "    pattern_memo: Dict[str, List[MidiData]] = {}\n",
    "    for pattern in melody_pattern:\n",
    "        if pattern in pattern_memo:\n",
    "            continue\n",
    "        time = 0\n",
    "        pattern_memo[pattern] = []\n",
    "        while time < BEAT_PER_BAR:\n",
    "            is_silence = uniform(0, 1) <= SILENCE_PROB\n",
    "            if is_silence:\n",
    "                duration = choices(NOTE_LENGTH, NOTE_PROB)[0] * BEAT_PER_BAR\n",
    "                time += duration\n",
    "                continue\n",
    "            note_id = randint(0, len(major_scale) - 1)\n",
    "            note = major_scale[note_id] if major else minor_scale[note_id]\n",
    "            duration = choices(NOTE_LENGTH, NOTE_PROB)[0] * BEAT_PER_BAR\n",
    "            if time + duration > BEAT_PER_BAR:\n",
    "                duration = BEAT_PER_BAR - time\n",
    "            pattern_memo[pattern].append(MidiData(note=note, start_time=time, duration=duration))\n",
    "            time += duration\n",
    "    \n",
    "    midi = MIDIFile(1)\n",
    "    midi.addTempo(0, 0, bpm)\n",
    "    bar_num = 0\n",
    "    for pattern in melody_pattern:\n",
    "        for midi_data in pattern_memo[pattern]:\n",
    "            time = midi_data.start_time + bar_num * BEAT_PER_BAR\n",
    "            midi.addNote(0, 0, midi_data.note, time, midi_data.duration, VOLUME)\n",
    "        bar_num += 1\n",
    "    \n",
    "    mem_file = BytesIO()\n",
    "    midi.writeFile(mem_file)\n",
    "    return mem_file\n",
    "#     with open(\"minor-scale.mid\", \"wb\") as output_file:\n",
    "#         midi.writeFile(output_file)"
   ]
  },
  {
   "cell_type": "code",
   "execution_count": 23,
   "metadata": {},
   "outputs": [
    {
     "name": "stdout",
     "output_type": "stream",
     "text": [
      "Done!\n"
     ]
    }
   ],
   "source": [
    "mem_file = generate_midi(major=False, bpm=130)\n",
    "pygame.init()\n",
    "pygame.mixer.init()\n",
    "mem_file.seek(0)  # THIS IS CRITICAL, OTHERWISE YOU GET THAT ERROR!\n",
    "pygame.mixer.music.load(mem_file)\n",
    "\n",
    "pygame.mixer.music.play()\n",
    "while pygame.mixer.music.get_busy():\n",
    "    sleep(1)\n",
    "print(\"Done!\")"
   ]
  },
  {
   "cell_type": "code",
   "execution_count": null,
   "metadata": {},
   "outputs": [],
   "source": []
  }
 ],
 "metadata": {
  "kernelspec": {
   "display_name": "Python 3",
   "language": "python",
   "name": "python3"
  },
  "language_info": {
   "codemirror_mode": {
    "name": "ipython",
    "version": 3
   },
   "file_extension": ".py",
   "mimetype": "text/x-python",
   "name": "python",
   "nbconvert_exporter": "python",
   "pygments_lexer": "ipython3",
   "version": "3.7.3"
  }
 },
 "nbformat": 4,
 "nbformat_minor": 2
}
