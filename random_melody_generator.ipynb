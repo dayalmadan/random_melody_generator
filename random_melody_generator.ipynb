{
 "cells": [
  {
   "cell_type": "code",
   "execution_count": 57,
   "metadata": {},
   "outputs": [],
   "source": [
    "from dataclasses import dataclass\n",
    "from typing import Dict, List, Tuple, Union\n",
    "from random import choices, randint, uniform\n",
    "\n",
    "from midiutil import MIDIFile"
   ]
  },
  {
   "cell_type": "code",
   "execution_count": 60,
   "metadata": {},
   "outputs": [],
   "source": [
    "NOTE_LENGTH = [1 / 32, 1 / 16, 1 / 8, 1 / 4]  # w.r.t. bar\n",
    "NOTE_PROB = [0.0, 0.8, 0.2, 0.0]\n",
    "\n",
    "SILENCE_PROB = 0.25\n",
    "\n",
    "MELODY_PATTERNS = [\"AABA\", \"ABAB\", \"ABAC\"]"
   ]
  },
  {
   "cell_type": "code",
   "execution_count": 28,
   "metadata": {},
   "outputs": [],
   "source": [
    "temp = {}\n",
    "\n",
    "for _ in range(2000):\n",
    "    choice = choices(NOTE_LENGTH, NOTE_PROB)[0]\n",
    "    if choice in temp:\n",
    "        temp[choice] += 1\n",
    "    else:\n",
    "        temp[choice] = 1\n",
    "        \n",
    "for c in temp:\n",
    "    temp[c] = temp[c] / 2000.0"
   ]
  },
  {
   "cell_type": "code",
   "execution_count": 68,
   "metadata": {},
   "outputs": [
    {
     "name": "stdout",
     "output_type": "stream",
     "text": [
      "0 60 0.25\n",
      "0.5 70 0.5\n",
      "2.0 65 0.25\n",
      "2.25 68 0.25\n",
      "2.5 62 0.25\n",
      "2.75 68 0.25\n",
      "3.25 72 0.25\n",
      "4 60 0.25\n",
      "4.5 70 0.5\n",
      "6.0 65 0.25\n",
      "6.25 68 0.25\n",
      "6.5 62 0.25\n",
      "6.75 68 0.25\n",
      "7.25 72 0.25\n",
      "8 60 0.5\n",
      "8.5 60 0.25\n",
      "8.75 60 0.5\n",
      "9.25 70 0.5\n",
      "9.75 72 0.25\n",
      "10.0 72 0.25\n",
      "11.0 72 0.25\n",
      "11.25 62 0.25\n",
      "11.5 62 0.25\n",
      "11.75 63 0.25\n",
      "12 60 0.25\n",
      "12.5 70 0.5\n",
      "14.0 65 0.25\n",
      "14.25 68 0.25\n",
      "14.5 62 0.25\n",
      "14.75 68 0.25\n",
      "15.25 72 0.25\n"
     ]
    }
   ],
   "source": [
    "@dataclass\n",
    "class MidiData:\n",
    "    note: int\n",
    "    start_time: float\n",
    "    duration: float\n",
    "\n",
    "major_scale = [60, 62, 64, 65, 67, 69, 71, 72] # MIDI note number\n",
    "minor_scale = [60, 62, 63, 65, 67, 68, 70, 72] # MIDI note number\n",
    "BEAT_PER_BAR = 4\n",
    "VOLUME = 100\n",
    "\n",
    "def generate_midi(scale: str='C', major: bool=True, bpm: int=126, bars: int=4):\n",
    "    melody_pattern = MELODY_PATTERNS[randint(0, len(MELODY_PATTERNS) - 1)]\n",
    "    \n",
    "    pattern_memo: Dict[str, List[MidiData]] = {}\n",
    "    for pattern in melody_pattern:\n",
    "        if pattern in pattern_memo:\n",
    "            continue\n",
    "        time = 0\n",
    "        pattern_memo[pattern] = []\n",
    "        while time < BEAT_PER_BAR:\n",
    "            is_silence = uniform(0, 1) <= SILENCE_PROB\n",
    "            if is_silence:\n",
    "                duration = choices(NOTE_LENGTH, NOTE_PROB)[0] * BEAT_PER_BAR\n",
    "                time += duration\n",
    "                continue\n",
    "            note_id = randint(0, len(major_scale) - 1)\n",
    "            note = major_scale[note_id] if major else minor_scale[note_id]\n",
    "            duration = choices(NOTE_LENGTH, NOTE_PROB)[0] * BEAT_PER_BAR\n",
    "            if time + duration > BEAT_PER_BAR:\n",
    "                duration = BEAT_PER_BAR - time\n",
    "            pattern_memo[pattern].append(MidiData(note=note, start_time=time, duration=duration))\n",
    "            time += duration\n",
    "    \n",
    "    midi = MIDIFile(1)\n",
    "    midi.addTempo(0, 0, bpm)\n",
    "    bar_num = 0\n",
    "    for pattern in melody_pattern:\n",
    "        for midi_data in pattern_memo[pattern]:\n",
    "            time = midi_data.start_time + bar_num * BEAT_PER_BAR\n",
    "            midi.addNote(0, 0, midi_data.note, time, midi_data.duration, VOLUME)\n",
    "        bar_num += 1\n",
    "    with open(\"minor-scale.mid\", \"wb\") as output_file:\n",
    "        midi.writeFile(output_file)\n",
    "\n",
    "generate_midi(major=False)"
   ]
  },
  {
   "cell_type": "code",
   "execution_count": 31,
   "metadata": {},
   "outputs": [],
   "source": [
    "degrees  = [60, 62, 64, 65, 67, 69, 71, 72] # MIDI note number\n",
    "\n",
    "midi = MIDIFile(1)\n",
    "midi.addTempo(0, 0, 126)\n",
    "duration = 1 / 4\n",
    "volume = 100\n",
    "time = 0\n",
    "\n",
    "for pitch in degrees:\n",
    "    midi.addNote(0, 0, pitch, time, duration, volume)\n",
    "    time += duration\n",
    "    \n",
    "with open(\"major-scale.mid\", \"wb\") as output_file:\n",
    "    midi.writeFile(output_file)"
   ]
  },
  {
   "cell_type": "code",
   "execution_count": null,
   "metadata": {},
   "outputs": [],
   "source": []
  }
 ],
 "metadata": {
  "kernelspec": {
   "display_name": "Python 3",
   "language": "python",
   "name": "python3"
  },
  "language_info": {
   "codemirror_mode": {
    "name": "ipython",
    "version": 3
   },
   "file_extension": ".py",
   "mimetype": "text/x-python",
   "name": "python",
   "nbconvert_exporter": "python",
   "pygments_lexer": "ipython3",
   "version": "3.7.3"
  }
 },
 "nbformat": 4,
 "nbformat_minor": 2
}
